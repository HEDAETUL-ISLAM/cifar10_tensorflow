{
  "nbformat": 4,
  "nbformat_minor": 0,
  "metadata": {
    "colab": {
      "name": "mnist_tensorflow.ipynb",
      "provenance": [],
      "collapsed_sections": [],
      "authorship_tag": "ABX9TyOTweGu+XENZhyz1icklVnP",
      "include_colab_link": true
    },
    "kernelspec": {
      "name": "python3",
      "display_name": "Python 3"
    }
  },
  "cells": [
    {
      "cell_type": "markdown",
      "metadata": {
        "id": "view-in-github",
        "colab_type": "text"
      },
      "source": [
        "<a href=\"https://colab.research.google.com/github/HEDAETUL-ISLAM/mnist_tensorflow/blob/master/mnist_tensorflow.ipynb\" target=\"_parent\"><img src=\"https://colab.research.google.com/assets/colab-badge.svg\" alt=\"Open In Colab\"/></a>"
      ]
    },
    {
      "cell_type": "code",
      "metadata": {
        "id": "TK6HH-ihQpDn",
        "colab_type": "code",
        "colab": {}
      },
      "source": [
        "pip install tensorflow\n"
      ],
      "execution_count": 0,
      "outputs": []
    },
    {
      "cell_type": "markdown",
      "metadata": {
        "id": "TuDi51g9U4dB",
        "colab_type": "text"
      },
      "source": [
        "#Import data and lib"
      ]
    },
    {
      "cell_type": "code",
      "metadata": {
        "id": "ggB_wKwSKK3a",
        "colab_type": "code",
        "colab": {}
      },
      "source": [
        "from __future__ import absolute_import, division, print_function, unicode_literals\n",
        "\n",
        "#TensorFlow and tf.keras\n",
        "import tensorflow as tf\n",
        "from tensorflow import keras\n",
        "\n",
        "#Helper libraries\n",
        "import numpy as np\n",
        "import matplotlib.pyplot as plt\n",
        "\n",
        "#Loading data\n",
        "fashion_mnist = keras.datasets.fashion_mnist\n",
        "(train_images, train_labels), (test_images, test_labels) = fashion_mnist.load_data()\n",
        "\n"
      ],
      "execution_count": 0,
      "outputs": []
    },
    {
      "cell_type": "markdown",
      "metadata": {
        "id": "EnA5Sag1U02C",
        "colab_type": "text"
      },
      "source": [
        "#Label data\n"
      ]
    },
    {
      "cell_type": "code",
      "metadata": {
        "id": "Tq9WVemZT_gB",
        "colab_type": "code",
        "colab": {}
      },
      "source": [
        "class_names = ['T-shirt/top', 'Trouser', 'Pullover', 'Dress', 'Coat', 'Sandal', 'Shirt', 'Sneaker', 'Bag', 'Ankle boot']"
      ],
      "execution_count": 0,
      "outputs": []
    },
    {
      "cell_type": "markdown",
      "metadata": {
        "id": "SytSb0XlUzno",
        "colab_type": "text"
      },
      "source": [
        "#For shape recognize\n"
      ]
    },
    {
      "cell_type": "code",
      "metadata": {
        "id": "wdaZLWr_KQn2",
        "colab_type": "code",
        "outputId": "bc9ec107-2ad1-4de7-f68a-6699926aeb8f",
        "colab": {
          "base_uri": "https://localhost:8080/",
          "height": 34
        }
      },
      "source": [
        "train_images.shape"
      ],
      "execution_count": 5,
      "outputs": [
        {
          "output_type": "execute_result",
          "data": {
            "text/plain": [
              "(60000, 28, 28)"
            ]
          },
          "metadata": {
            "tags": []
          },
          "execution_count": 5
        }
      ]
    },
    {
      "cell_type": "markdown",
      "metadata": {
        "id": "C5wjYomcUyZo",
        "colab_type": "text"
      },
      "source": [
        "#For length\n"
      ]
    },
    {
      "cell_type": "code",
      "metadata": {
        "id": "vlz9U1WnNSAo",
        "colab_type": "code",
        "outputId": "5a490f56-8719-420d-e892-fa102f2a4025",
        "colab": {
          "base_uri": "https://localhost:8080/",
          "height": 34
        }
      },
      "source": [
        "len(train_images)"
      ],
      "execution_count": 6,
      "outputs": [
        {
          "output_type": "execute_result",
          "data": {
            "text/plain": [
              "60000"
            ]
          },
          "metadata": {
            "tags": []
          },
          "execution_count": 6
        }
      ]
    },
    {
      "cell_type": "markdown",
      "metadata": {
        "id": "Rgwj9XJaUw85",
        "colab_type": "text"
      },
      "source": [
        "#For label\n"
      ]
    },
    {
      "cell_type": "code",
      "metadata": {
        "id": "O67ydvBENgRn",
        "colab_type": "code",
        "outputId": "bd32014f-6c1c-4588-bc33-7db89428ca09",
        "colab": {
          "base_uri": "https://localhost:8080/",
          "height": 34
        }
      },
      "source": [
        "train_labels"
      ],
      "execution_count": 7,
      "outputs": [
        {
          "output_type": "execute_result",
          "data": {
            "text/plain": [
              "array([9, 0, 0, ..., 3, 0, 5], dtype=uint8)"
            ]
          },
          "metadata": {
            "tags": []
          },
          "execution_count": 7
        }
      ]
    },
    {
      "cell_type": "markdown",
      "metadata": {
        "id": "_QOIpegcUvMh",
        "colab_type": "text"
      },
      "source": [
        "#Preprocess data and see\n"
      ]
    },
    {
      "cell_type": "code",
      "metadata": {
        "id": "CSQ9uD4zNmun",
        "colab_type": "code",
        "outputId": "72ccafde-9a31-4ccc-b13a-84a23115f412",
        "colab": {
          "base_uri": "https://localhost:8080/",
          "height": 265
        }
      },
      "source": [
        "plt.figure()\n",
        "plt.imshow(train_images[1], plt.cm.binary)\n",
        "plt.colorbar()\n",
        "plt.grid(True)\n",
        "plt.show()"
      ],
      "execution_count": 8,
      "outputs": [
        {
          "output_type": "display_data",
          "data": {
            "image/png": "[encoded data removed]",
            "text/plain": [
              "<Figure size 432x288 with 2 Axes>"
            ]
          },
          "metadata": {
            "tags": []
          }
        }
      ]
    },
    {
      "cell_type": "code",
      "metadata": {
        "id": "pIAikGzjTqS4",
        "colab_type": "code",
        "colab": {}
      },
      "source": [
        ""
      ],
      "execution_count": 0,
      "outputs": []
    },
    {
      "cell_type": "markdown",
      "metadata": {
        "id": "h1Lb1ME6Us95",
        "colab_type": "text"
      },
      "source": [
        "#Data process for newral network\n"
      ]
    },
    {
      "cell_type": "code",
      "metadata": {
        "id": "B7ujWcGpPrD7",
        "colab_type": "code",
        "colab": {}
      },
      "source": [
        "train_images = train_images/255.0\n",
        "test_images = test_images/255.0"
      ],
      "execution_count": 0,
      "outputs": []
    },
    {
      "cell_type": "markdown",
      "metadata": {
        "id": "jXm-f6nBUenz",
        "colab_type": "text"
      },
      "source": [
        "#Verify data set\n"
      ]
    },
    {
      "cell_type": "code",
      "metadata": {
        "id": "5SrsVez4SKGN",
        "colab_type": "code",
        "outputId": "4f8c0d37-bedf-49fd-ec2a-d55034407d99",
        "colab": {
          "base_uri": "https://localhost:8080/",
          "height": 589
        }
      },
      "source": [
        "plt.figure(figsize=(10,10))\n",
        "for i in range(25):\n",
        "  plt.subplot(5,5, i+1)\n",
        "  plt.xticks([])\n",
        "  plt.yticks([])\n",
        "  plt.grid(True)\n",
        "  plt.imshow(train_images[i], plt.cm.binary)\n",
        "  plt.xlabel(class_names[train_labels[i]])\n",
        "plt.show()"
      ],
      "execution_count": 10,
      "outputs": [
        {
          "output_type": "display_data",
          "data": {
            "image/png": "[encoded data removed]",
            "text/plain": [
              "<Figure size 720x720 with 25 Axes>"
            ]
          },
          "metadata": {
            "tags": []
          }
        }
      ]
    },
    {
      "cell_type": "markdown",
      "metadata": {
        "id": "kLPOjyRVVdfr",
        "colab_type": "text"
      },
      "source": [
        "#2 neural network layer setting"
      ]
    },
    {
      "cell_type": "code",
      "metadata": {
        "id": "H4pKiUmITdJQ",
        "colab_type": "code",
        "colab": {}
      },
      "source": [
        "model = keras.Sequential([\n",
        "                          # form image 2d array 28 by 28 size to 1 d array 28*28 size reform data\n",
        "                          keras.layers.Flatten(input_shape=(28,28)),\n",
        "                          # 128 neurons \n",
        "                          keras.layers.Dense(128, activation = 'relu'),\n",
        "                          # 10 node softmax layer \n",
        "                          keras.layers.Dense(10)\n",
        "])"
      ],
      "execution_count": 0,
      "outputs": []
    },
    {
      "cell_type": "markdown",
      "metadata": {
        "id": "AJmlYzdwW5r6",
        "colab_type": "text"
      },
      "source": [
        "# Now compile data "
      ]
    },
    {
      "cell_type": "code",
      "metadata": {
        "id": "46FudeKBWC4K",
        "colab_type": "code",
        "colab": {}
      },
      "source": [
        "model.compile(optimizer= 'adam',\n",
        "              loss = tf.keras.losses.SparseCategoricalCrossentropy(from_logits=True),\n",
        "              metrics=['accuracy'])"
      ],
      "execution_count": 0,
      "outputs": []
    },
    {
      "cell_type": "markdown",
      "metadata": {
        "id": "Mp3Yg7XRYuLy",
        "colab_type": "text"
      },
      "source": [
        "#Training Section"
      ]
    },
    {
      "cell_type": "code",
      "metadata": {
        "id": "FeHcNFGRYJ66",
        "colab_type": "code",
        "outputId": "7cfff49b-7de4-448c-fa1f-f19b62a0092d",
        "colab": {
          "base_uri": "https://localhost:8080/",
          "height": 386
        }
      },
      "source": [
        "model.fit(train_images, train_labels, epochs=10)"
      ],
      "execution_count": 13,
      "outputs": [
        {
          "output_type": "stream",
          "text": [
            "Train on 60000 samples\n",
            "Epoch 1/10\n",
            "60000/60000 [==============================] - 5s 86us/sample - loss: 0.5039 - accuracy: 0.8234\n",
            "Epoch 2/10\n",
            "60000/60000 [==============================] - 5s 77us/sample - loss: 0.3787 - accuracy: 0.8643\n",
            "Epoch 3/10\n",
            "60000/60000 [==============================] - 5s 76us/sample - loss: 0.3430 - accuracy: 0.8743\n",
            "Epoch 4/10\n",
            "60000/60000 [==============================] - 5s 77us/sample - loss: 0.3176 - accuracy: 0.8836\n",
            "Epoch 5/10\n",
            "60000/60000 [==============================] - 5s 76us/sample - loss: 0.2985 - accuracy: 0.8895\n",
            "Epoch 6/10\n",
            "60000/60000 [==============================] - 5s 76us/sample - loss: 0.2830 - accuracy: 0.8947\n",
            "Epoch 7/10\n",
            "60000/60000 [==============================] - 5s 77us/sample - loss: 0.2734 - accuracy: 0.8989\n",
            "Epoch 8/10\n",
            "60000/60000 [==============================] - 4s 75us/sample - loss: 0.2599 - accuracy: 0.9034\n",
            "Epoch 9/10\n",
            "60000/60000 [==============================] - 5s 76us/sample - loss: 0.2532 - accuracy: 0.9052\n",
            "Epoch 10/10\n",
            "60000/60000 [==============================] - 5s 76us/sample - loss: 0.2421 - accuracy: 0.9099\n"
          ],
          "name": "stdout"
        },
        {
          "output_type": "execute_result",
          "data": {
            "text/plain": [
              "<tensorflow.python.keras.callbacks.History at 0x7f4ce55f3828>"
            ]
          },
          "metadata": {
            "tags": []
          },
          "execution_count": 13
        }
      ]
    },
    {
      "cell_type": "markdown",
      "metadata": {
        "id": "4cIWFDVTZgiy",
        "colab_type": "text"
      },
      "source": [
        "#Evaluation"
      ]
    },
    {
      "cell_type": "code",
      "metadata": {
        "id": "la_A95FhZKfw",
        "colab_type": "code",
        "outputId": "56fba44f-3c0c-437b-fc4e-ef14afafb5a9",
        "colab": {
          "base_uri": "https://localhost:8080/",
          "height": 50
        }
      },
      "source": [
        "test_loss, test_accu = model.evaluate(test_images, test_labels, verbose = 2)\n",
        "print(\"test accuracy \", test_accu)"
      ],
      "execution_count": 14,
      "outputs": [
        {
          "output_type": "stream",
          "text": [
            "10000/10000 - 0s - loss: 0.3444 - accuracy: 0.8808\n",
            "test accuracy  0.8808\n"
          ],
          "name": "stdout"
        }
      ]
    },
    {
      "cell_type": "markdown",
      "metadata": {
        "id": "3v5-HJeFaTts",
        "colab_type": "text"
      },
      "source": [
        "#Prediction"
      ]
    },
    {
      "cell_type": "code",
      "metadata": {
        "id": "hkxWjSE4Z5jL",
        "colab_type": "code",
        "outputId": "034264aa-0f81-40c3-dcb1-e63b8060530f",
        "colab": {
          "base_uri": "https://localhost:8080/",
          "height": 67
        }
      },
      "source": [
        "probability_model = tf.keras.Sequential([model, tf.keras.layers.Softmax()])\n",
        "predictions = probability_model.predict(test_images)\n",
        "predictions[1]"
      ],
      "execution_count": 17,
      "outputs": [
        {
          "output_type": "execute_result",
          "data": {
            "text/plain": [
              "array([6.7333684e-05, 6.2260726e-12, 9.9262422e-01, 2.6302834e-08,\n",
              "       3.5683147e-03, 4.3854529e-09, 3.7400131e-03, 2.1212428e-11,\n",
              "       7.7152551e-10, 5.5794076e-16], dtype=float32)"
            ]
          },
          "metadata": {
            "tags": []
          },
          "execution_count": 17
        }
      ]
    },
    {
      "cell_type": "markdown",
      "metadata": {
        "id": "OCFd6vhVR3YL",
        "colab_type": "text"
      },
      "source": [
        "#Confidence"
      ]
    },
    {
      "cell_type": "code",
      "metadata": {
        "id": "ZIvPH7BJazZL",
        "colab_type": "code",
        "colab": {
          "base_uri": "https://localhost:8080/",
          "height": 34
        },
        "outputId": "ae02fd34-cdfa-4a0f-b4e8-4cae43300a83"
      },
      "source": [
        "np.argmax(predictions[0])"
      ],
      "execution_count": 19,
      "outputs": [
        {
          "output_type": "execute_result",
          "data": {
            "text/plain": [
              "9"
            ]
          },
          "metadata": {
            "tags": []
          },
          "execution_count": 19
        }
      ]
    },
    {
      "cell_type": "markdown",
      "metadata": {
        "id": "OB4-aaiZSQKA",
        "colab_type": "text"
      },
      "source": [
        "#Check classification is corret"
      ]
    },
    {
      "cell_type": "code",
      "metadata": {
        "id": "WRFdufnuQfx6",
        "colab_type": "code",
        "colab": {
          "base_uri": "https://localhost:8080/",
          "height": 34
        },
        "outputId": "dcdf3f13-96ec-4e92-c7f4-92ba8e94b3db"
      },
      "source": [
        "test_labels[0]"
      ],
      "execution_count": 20,
      "outputs": [
        {
          "output_type": "execute_result",
          "data": {
            "text/plain": [
              "9"
            ]
          },
          "metadata": {
            "tags": []
          },
          "execution_count": 20
        }
      ]
    },
    {
      "cell_type": "markdown",
      "metadata": {
        "id": "19x5k407S0j0",
        "colab_type": "text"
      },
      "source": [
        "#Graph"
      ]
    },
    {
      "cell_type": "code",
      "metadata": {
        "id": "1_-NzjcxSObr",
        "colab_type": "code",
        "colab": {}
      },
      "source": [
        "def plot_image(i, predictions_array, true_label, img):\n",
        "  predictions_array, true_label, img = predictions_array, true_label[i], img[i]\n",
        "  plt.grid(False)\n",
        "  plt.xticks([])\n",
        "  plt.yticks([])\n",
        "\n",
        "  plt.imshow(img, cmap=plt.cm.binary)\n",
        "\n",
        "  predicted_label = np.argmax(predictions_array)\n",
        "  if predicted_label == true_label:\n",
        "    color = 'blue'\n",
        "  else:\n",
        "    color = 'red'\n",
        "\n",
        "  plt.xlabel(\"{} {:2.0f}% ({})\".format(class_names[predicted_label],\n",
        "                                100*np.max(predictions_array),\n",
        "                                class_names[true_label]),\n",
        "                                color=color)\n",
        "\n",
        "def plot_value_array(i, predictions_array, true_label):\n",
        "  predictions_array, true_label = predictions_array, true_label[i]\n",
        "  plt.grid(False)\n",
        "  plt.xticks(range(10))\n",
        "  plt.yticks([])\n",
        "  thisplot = plt.bar(range(10), predictions_array, color=\"#777777\")\n",
        "  plt.ylim([0, 1])\n",
        "  predicted_label = np.argmax(predictions_array)\n",
        "\n",
        "  thisplot[predicted_label].set_color('red')\n",
        "  thisplot[true_label].set_color('blue')"
      ],
      "execution_count": 0,
      "outputs": []
    },
    {
      "cell_type": "markdown",
      "metadata": {
        "id": "l9CinAjSS7Ly",
        "colab_type": "text"
      },
      "source": [
        "#Verifying our data"
      ]
    },
    {
      "cell_type": "code",
      "metadata": {
        "id": "pHtY1MizSbnS",
        "colab_type": "code",
        "colab": {
          "base_uri": "https://localhost:8080/",
          "height": 211
        },
        "outputId": "d38e577c-fddb-4790-ff1d-86e00cef14f7"
      },
      "source": [
        "i = 0\n",
        "plt.figure(figsize=(6,3))\n",
        "plt.subplot(1,2,1)\n",
        "plot_image(i, predictions[i], test_labels, test_images)\n",
        "plt.subplot(1,2,2)\n",
        "plot_value_array(i, predictions[i],  test_labels)\n",
        "plt.show()"
      ],
      "execution_count": 23,
      "outputs": [
        {
          "output_type": "display_data",
          "data": {
            "image/png": "[encoded data removed]",
            "text/plain": [
              "<Figure size 432x216 with 2 Axes>"
            ]
          },
          "metadata": {
            "tags": []
          }
        }
      ]
    },
    {
      "cell_type": "code",
      "metadata": {
        "id": "b5-uSj8NS5l7",
        "colab_type": "code",
        "colab": {
          "base_uri": "https://localhost:8080/",
          "height": 211
        },
        "outputId": "7f5fe221-c88a-4d91-addb-5c00adc4517e"
      },
      "source": [
        "i = 15\n",
        "plt.figure(figsize=(6,3))\n",
        "plt.subplot(1,2,1)\n",
        "plot_image(i, predictions[i], test_labels, test_images)\n",
        "plt.subplot(1,2,2)\n",
        "plot_value_array(i, predictions[i],  test_labels)\n",
        "plt.show()"
      ],
      "execution_count": 27,
      "outputs": [
        {
          "output_type": "display_data",
          "data": {
            "image/png": "[encoded data removed]",
            "text/plain": [
              "<Figure size 432x216 with 2 Axes>"
            ]
          },
          "metadata": {
            "tags": []
          }
        }
      ]
    },
    {
      "cell_type": "markdown",
      "metadata": {
        "id": "yI52KOAdVUcE",
        "colab_type": "text"
      },
      "source": [
        "#Plot all pic"
      ]
    },
    {
      "cell_type": "code",
      "metadata": {
        "id": "DnjQ0iXvUjJs",
        "colab_type": "code",
        "colab": {
          "base_uri": "https://localhost:8080/",
          "height": 729
        },
        "outputId": "5122c0ba-5192-481f-c10e-92aee619a58d"
      },
      "source": [
        "# Plot the first X test images, their predicted labels, and the true labels.\n",
        "# Color correct predictions in blue and incorrect predictions in red.\n",
        "num_rows = 5\n",
        "num_cols = 3\n",
        "num_images = num_rows*num_cols\n",
        "plt.figure(figsize=(2*2*num_cols, 2*num_rows))\n",
        "for i in range(num_images):\n",
        "  plt.subplot(num_rows, 2*num_cols, 2*i+1)\n",
        "  plot_image(i, predictions[i], test_labels, test_images)\n",
        "  plt.subplot(num_rows, 2*num_cols, 2*i+2)\n",
        "  plot_value_array(i, predictions[i], test_labels)\n",
        "plt.tight_layout()\n",
        "plt.show()"
      ],
      "execution_count": 29,
      "outputs": [
        {
          "output_type": "display_data",
          "data": {
            "image/png": "[encoded data removed]",
            "text/plain": [
              "<Figure size 864x720 with 30 Axes>"
            ]
          },
          "metadata": {
            "tags": []
          }
        }
      ]
    },
    {
      "cell_type": "markdown",
      "metadata": {
        "id": "Wk-WQlXtVsSE",
        "colab_type": "text"
      },
      "source": [
        "#Using trained model"
      ]
    },
    {
      "cell_type": "code",
      "metadata": {
        "id": "RiggIa_mVJdk",
        "colab_type": "code",
        "colab": {
          "base_uri": "https://localhost:8080/",
          "height": 34
        },
        "outputId": "52dc4668-8c00-4527-b800-e14ecb5cfb44"
      },
      "source": [
        "# Grab an image from the test dataset.\n",
        "img = test_images[1]\n",
        "\n",
        "print(img.shape)"
      ],
      "execution_count": 30,
      "outputs": [
        {
          "output_type": "stream",
          "text": [
            "(28, 28)\n"
          ],
          "name": "stdout"
        }
      ]
    },
    {
      "cell_type": "code",
      "metadata": {
        "id": "JzPRifZIVaXr",
        "colab_type": "code",
        "colab": {
          "base_uri": "https://localhost:8080/",
          "height": 34
        },
        "outputId": "8b47dc69-f31f-4e68-bca8-a8d03fc28662"
      },
      "source": [
        "# Add the image to a batch where it's the only member.\n",
        "img = (np.expand_dims(img,0))\n",
        "\n",
        "print(img.shape)"
      ],
      "execution_count": 31,
      "outputs": [
        {
          "output_type": "stream",
          "text": [
            "(1, 28, 28)\n"
          ],
          "name": "stdout"
        }
      ]
    },
    {
      "cell_type": "code",
      "metadata": {
        "id": "BAv5HSDDWSnu",
        "colab_type": "code",
        "colab": {
          "base_uri": "https://localhost:8080/",
          "height": 50
        },
        "outputId": "fb67e068-9a56-45e5-8c9d-2729a5c29e4e"
      },
      "source": [
        "predictions_single = probability_model.predict(img)\n",
        "\n",
        "print(predictions_single)"
      ],
      "execution_count": 32,
      "outputs": [
        {
          "output_type": "stream",
          "text": [
            "[[6.7333618e-05 6.2260965e-12 9.9262422e-01 2.6302782e-08 3.5683082e-03\n",
            "  4.3854445e-09 3.7400096e-03 2.1212428e-11 7.7152401e-10 5.5793864e-16]]\n"
          ],
          "name": "stdout"
        }
      ]
    },
    {
      "cell_type": "code",
      "metadata": {
        "id": "M0KhXpiSWWiJ",
        "colab_type": "code",
        "colab": {
          "base_uri": "https://localhost:8080/",
          "height": 300
        },
        "outputId": "925e43c3-79a1-4288-b464-a659136697e2"
      },
      "source": [
        "plot_value_array(10, predictions_single[0], test_labels)\n",
        "_ = plt.xticks(range(10), class_names, rotation=45)"
      ],
      "execution_count": 35,
      "outputs": [
        {
          "output_type": "display_data",
          "data": {
            "image/png": "[encoded data removed]",
            "text/plain": [
              "<Figure size 432x288 with 1 Axes>"
            ]
          },
          "metadata": {
            "tags": []
          }
        }
      ]
    },
    {
      "cell_type": "code",
      "metadata": {
        "id": "qUoP-v-jWZaZ",
        "colab_type": "code",
        "colab": {}
      },
      "source": [
        ""
      ],
      "execution_count": 0,
      "outputs": []
    }
  ]
}